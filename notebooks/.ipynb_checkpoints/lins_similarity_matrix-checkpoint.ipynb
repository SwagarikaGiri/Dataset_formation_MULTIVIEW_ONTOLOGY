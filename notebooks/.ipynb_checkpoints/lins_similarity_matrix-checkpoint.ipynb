{
 "cells": [
  {
   "cell_type": "code",
   "execution_count": 1,
   "metadata": {},
   "outputs": [],
   "source": [
    "import pandas as pd\n",
    "import csv"
   ]
  },
  {
   "cell_type": "code",
   "execution_count": 2,
   "metadata": {},
   "outputs": [
    {
     "name": "stdout",
     "output_type": "stream",
     "text": [
      "../go-basic.obo: fmt(1.2) rel(2018-08-03) 47,289 GO Terms\n"
     ]
    }
   ],
   "source": [
    "%load_ext autoreload\n",
    "%autoreload 2\n",
    "\n",
    "import sys\n",
    "\n",
    "sys.path.insert(0, \"..\")\n",
    "from goatools import obo_parser\n",
    "\n",
    "go = obo_parser.GODag(\"../go-basic.obo\")"
   ]
  },
  {
   "cell_type": "code",
   "execution_count": 4,
   "metadata": {},
   "outputs": [
    {
     "name": "stdout",
     "output_type": "stream",
     "text": [
      "  READ      234,052 associations: gene_association.tair\n"
     ]
    }
   ],
   "source": [
    "from goatools.associations import read_gaf\n",
    "\n",
    "associations = read_gaf(\"gene_association.tair\")"
   ]
  },
  {
   "cell_type": "code",
   "execution_count": 5,
   "metadata": {},
   "outputs": [],
   "source": [
    "from goatools.semantic import lin_sim\n"
   ]
  },
  {
   "cell_type": "code",
   "execution_count": 6,
   "metadata": {},
   "outputs": [
    {
     "name": "stdout",
     "output_type": "stream",
     "text": [
      "6 Assc. GO IDs not found in the GODag\n",
      "\n"
     ]
    }
   ],
   "source": [
    "from goatools.semantic import TermCounts, get_info_content\n",
    "\n",
    "# First get the counts of each GO term.\n",
    "termcounts = TermCounts(go, associations)\n"
   ]
  },
  {
   "cell_type": "code",
   "execution_count": null,
   "metadata": {},
   "outputs": [],
   "source": [
    "#now we will take the go-term list as the input"
   ]
  },
  {
   "cell_type": "code",
   "execution_count": 8,
   "metadata": {},
   "outputs": [],
   "source": [
    "go_term_list=[]\n",
    "input_file='Goterm_list_without_obs.txt'\n",
    "dataset = pd.read_csv(input_file,sep=\" \",header=None)\n",
    "csv_list = dataset.iloc[0:,0:].values\n",
    "row,col = csv_list.shape\n",
    "for i in range(0,row):\n",
    "    go_term_list.append(csv_list[i,0])\n",
    "# print go_term_list"
   ]
  },
  {
   "cell_type": "code",
   "execution_count": null,
   "metadata": {},
   "outputs": [],
   "source": []
  },
  {
   "cell_type": "code",
   "execution_count": 18,
   "metadata": {},
   "outputs": [
    {
     "name": "stdout",
     "output_type": "stream",
     "text": [
      "163\n",
      "163\n",
      "163\n",
      "163\n",
      "163\n",
      "163\n",
      "163\n",
      "163\n",
      "163\n",
      "163\n",
      "163\n",
      "163\n",
      "163\n",
      "163\n",
      "163\n",
      "163\n",
      "163\n",
      "163\n",
      "163\n",
      "163\n",
      "163\n",
      "163\n",
      "163\n",
      "163\n",
      "163\n",
      "163\n",
      "163\n",
      "163\n",
      "163\n",
      "163\n",
      "163\n",
      "163\n",
      "163\n",
      "163\n",
      "163\n",
      "163\n",
      "163\n",
      "163\n",
      "163\n",
      "163\n",
      "163\n",
      "163\n",
      "163\n",
      "163\n",
      "163\n",
      "163\n",
      "163\n",
      "163\n",
      "163\n",
      "163\n",
      "163\n",
      "163\n",
      "163\n",
      "163\n",
      "163\n",
      "163\n",
      "163\n",
      "163\n",
      "163\n",
      "163\n",
      "163\n",
      "163\n",
      "163\n",
      "163\n",
      "163\n",
      "163\n",
      "163\n",
      "163\n",
      "163\n",
      "163\n",
      "163\n",
      "163\n",
      "163\n",
      "163\n",
      "163\n",
      "163\n",
      "163\n",
      "163\n",
      "163\n",
      "163\n",
      "163\n",
      "163\n",
      "163\n",
      "163\n",
      "163\n",
      "163\n",
      "163\n",
      "163\n",
      "163\n",
      "163\n",
      "163\n",
      "163\n",
      "163\n",
      "163\n",
      "163\n",
      "163\n",
      "163\n",
      "163\n",
      "163\n",
      "163\n",
      "163\n",
      "163\n",
      "163\n",
      "163\n",
      "163\n",
      "163\n",
      "163\n",
      "163\n",
      "163\n",
      "163\n",
      "163\n",
      "163\n",
      "163\n",
      "163\n",
      "163\n",
      "163\n",
      "163\n",
      "163\n",
      "163\n",
      "163\n",
      "163\n",
      "163\n",
      "163\n",
      "163\n",
      "163\n",
      "163\n",
      "163\n",
      "163\n",
      "163\n",
      "163\n",
      "163\n",
      "163\n",
      "163\n",
      "163\n",
      "163\n",
      "163\n",
      "163\n",
      "163\n",
      "163\n",
      "163\n",
      "163\n",
      "163\n",
      "163\n",
      "163\n",
      "163\n",
      "163\n",
      "163\n",
      "163\n",
      "163\n",
      "163\n",
      "163\n",
      "163\n",
      "163\n",
      "163\n",
      "163\n",
      "163\n",
      "163\n",
      "163\n",
      "163\n",
      "163\n",
      "163\n",
      "163\n"
     ]
    }
   ],
   "source": [
    "output_file='Lins_similarity_matrix.txt'\n",
    "with open(output_file,'w') as outputcsv_file:\n",
    "    spamwriter = csv.writer(outputcsv_file,delimiter=',')\n",
    "    col1=[]\n",
    "    col1.append(\"Go term\")\n",
    "    for i in range(0,len(go_term_list)):\n",
    "        col1.append(go_term_list[i])\n",
    "    spamwriter.writerow(col1)\n",
    "    for i in range(0,len(go_term_list)):\n",
    "        col1=[]\n",
    "        col1.append(go_term_list[i])\n",
    "        for j in range(0,len(go_term_list)):\n",
    "            result=0\n",
    "            go_id3 =  go_term_list[i]\n",
    "            go_id4 =  go_term_list[j]\n",
    "            result=lin_sim(go_id3, go_id4, go, termcounts)\n",
    "            if result == None:\n",
    "                result=0\n",
    "            elif result != None:\n",
    "                result=-result\n",
    "            col1.append(result)\n",
    "        print col1\n",
    "        print len(col1)\n",
    "        spamwriter.writerow(col1)\n",
    "        \n",
    "          \n",
    "                \n"
   ]
  },
  {
   "cell_type": "code",
   "execution_count": null,
   "metadata": {},
   "outputs": [],
   "source": []
  }
 ],
 "metadata": {
  "kernelspec": {
   "display_name": "Python 2",
   "language": "python",
   "name": "python2"
  },
  "language_info": {
   "codemirror_mode": {
    "name": "ipython",
    "version": 2
   },
   "file_extension": ".py",
   "mimetype": "text/x-python",
   "name": "python",
   "nbconvert_exporter": "python",
   "pygments_lexer": "ipython2",
   "version": "2.7.15"
  }
 },
 "nbformat": 4,
 "nbformat_minor": 2
}
